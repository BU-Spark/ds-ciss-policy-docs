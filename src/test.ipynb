{
 "cells": [
  {
   "cell_type": "code",
   "execution_count": 2,
   "metadata": {},
   "outputs": [],
   "source": [
    "from load_data import process_file, unzip_file,read_data"
   ]
  },
  {
   "cell_type": "code",
   "execution_count": 2,
   "metadata": {},
   "outputs": [],
   "source": [
    "process_file('data/Regulatory Statute Documents Set 3')"
   ]
  },
  {
   "cell_type": "code",
   "execution_count": 2,
   "metadata": {},
   "outputs": [
    {
     "name": "stdout",
     "output_type": "stream",
     "text": [
      "unzip 560 files\n"
     ]
    }
   ],
   "source": [
    "unzip_file(\"data/Regulatory Statute Documents Set 3/all_files\", \"data/Regulatory Statute Documents Set 3/all_files_unzip\")"
   ]
  },
  {
   "cell_type": "code",
   "execution_count": null,
   "metadata": {},
   "outputs": [],
   "source": [
    "pd = read_data(\"data/Regulatory Statute Documents Set 3/all_files_unzip\")"
   ]
  },
  {
   "cell_type": "code",
   "execution_count": 3,
   "metadata": {},
   "outputs": [
    {
     "data": {
      "text/html": [
       "<div>\n",
       "<style scoped>\n",
       "    .dataframe tbody tr th:only-of-type {\n",
       "        vertical-align: middle;\n",
       "    }\n",
       "\n",
       "    .dataframe tbody tr th {\n",
       "        vertical-align: top;\n",
       "    }\n",
       "\n",
       "    .dataframe thead th {\n",
       "        text-align: right;\n",
       "    }\n",
       "</style>\n",
       "<table border=\"1\" class=\"dataframe\">\n",
       "  <thead>\n",
       "    <tr style=\"text-align: right;\">\n",
       "      <th></th>\n",
       "      <th>file_name</th>\n",
       "      <th>content</th>\n",
       "    </tr>\n",
       "  </thead>\n",
       "  <tbody>\n",
       "    <tr>\n",
       "      <th>0</th>\n",
       "      <td>海南省交通运输厅关于行政规范性文件清理结果</td>\n",
       "      <td>【法宝引证码】 CLI.12.5647676\\n原文链接：https://www.p...</td>\n",
       "    </tr>\n",
       "    <tr>\n",
       "      <th>1</th>\n",
       "      <td>重庆市国土房管局关于同意延长北碚区山水香庭</td>\n",
       "      <td>【法宝引证码】 CLI.12.1300415\\n原文链接：https://www.p...</td>\n",
       "    </tr>\n",
       "    <tr>\n",
       "      <th>2</th>\n",
       "      <td>甘肃省人力资源和社会保障厅、中国银保监会甘</td>\n",
       "      <td>【法宝引证码】 CLI.12.5608533\\n原文链接：https://www.p...</td>\n",
       "    </tr>\n",
       "    <tr>\n",
       "      <th>3</th>\n",
       "      <td>银川市人民政府关于公布政府规范性文件目录的</td>\n",
       "      <td>【法宝引证码】 CLI.12.469612\\n原文链接：https://www.pk...</td>\n",
       "    </tr>\n",
       "    <tr>\n",
       "      <th>4</th>\n",
       "      <td>三亚市人民政府办公室关于三亚市海棠湾6号污</td>\n",
       "      <td>【法宝引证码】 CLI.12.5472959\\n原文链接：https://www.p...</td>\n",
       "    </tr>\n",
       "    <tr>\n",
       "      <th>...</th>\n",
       "      <td>...</td>\n",
       "      <td>...</td>\n",
       "    </tr>\n",
       "    <tr>\n",
       "      <th>50968</th>\n",
       "      <td>喀什市人民政府关于印发《喀什市供排水五项管</td>\n",
       "      <td>【法宝引证码】 CLI.12.815487\\n原文链接：https://www.pk...</td>\n",
       "    </tr>\n",
       "    <tr>\n",
       "      <th>50969</th>\n",
       "      <td>兰州市人民政府关于印发《兰州市人民政府工作</td>\n",
       "      <td>【法宝引证码】 CLI.12.747004\\n原文链接：https://www.pk...</td>\n",
       "    </tr>\n",
       "    <tr>\n",
       "      <th>50970</th>\n",
       "      <td>临夏回族自治州人民政府办公室关于加强传染病</td>\n",
       "      <td>【法宝引证码】 CLI.12.1130910\\n原文链接：https://www.p...</td>\n",
       "    </tr>\n",
       "    <tr>\n",
       "      <th>50971</th>\n",
       "      <td>定安县人民政府办公室关于印发定安县中东呼吸</td>\n",
       "      <td>【法宝引证码】 CLI.12.1403079\\n原文链接：https://www.p...</td>\n",
       "    </tr>\n",
       "    <tr>\n",
       "      <th>50972</th>\n",
       "      <td>重庆市国土房管局关于同意渝北区迎祥雅居农转</td>\n",
       "      <td>【法宝引证码】 CLI.12.1347976\\n原文链接：https://www.p...</td>\n",
       "    </tr>\n",
       "  </tbody>\n",
       "</table>\n",
       "<p>50973 rows × 2 columns</p>\n",
       "</div>"
      ],
      "text/plain": [
       "                   file_name  \\\n",
       "0      海南省交通运输厅关于行政规范性文件清理结果   \n",
       "1      重庆市国土房管局关于同意延长北碚区山水香庭   \n",
       "2      甘肃省人力资源和社会保障厅、中国银保监会甘   \n",
       "3      银川市人民政府关于公布政府规范性文件目录的   \n",
       "4      三亚市人民政府办公室关于三亚市海棠湾6号污   \n",
       "...                      ...   \n",
       "50968  喀什市人民政府关于印发《喀什市供排水五项管   \n",
       "50969  兰州市人民政府关于印发《兰州市人民政府工作   \n",
       "50970  临夏回族自治州人民政府办公室关于加强传染病   \n",
       "50971  定安县人民政府办公室关于印发定安县中东呼吸   \n",
       "50972  重庆市国土房管局关于同意渝北区迎祥雅居农转   \n",
       "\n",
       "                                                 content  \n",
       "0          【法宝引证码】 CLI.12.5647676\\n原文链接：https://www.p...  \n",
       "1          【法宝引证码】 CLI.12.1300415\\n原文链接：https://www.p...  \n",
       "2          【法宝引证码】 CLI.12.5608533\\n原文链接：https://www.p...  \n",
       "3          【法宝引证码】 CLI.12.469612\\n原文链接：https://www.pk...  \n",
       "4          【法宝引证码】 CLI.12.5472959\\n原文链接：https://www.p...  \n",
       "...                                                  ...  \n",
       "50968      【法宝引证码】 CLI.12.815487\\n原文链接：https://www.pk...  \n",
       "50969      【法宝引证码】 CLI.12.747004\\n原文链接：https://www.pk...  \n",
       "50970      【法宝引证码】 CLI.12.1130910\\n原文链接：https://www.p...  \n",
       "50971      【法宝引证码】 CLI.12.1403079\\n原文链接：https://www.p...  \n",
       "50972      【法宝引证码】 CLI.12.1347976\\n原文链接：https://www.p...  \n",
       "\n",
       "[50973 rows x 2 columns]"
      ]
     },
     "execution_count": 3,
     "metadata": {},
     "output_type": "execute_result"
    }
   ],
   "source": [
    "pd"
   ]
  },
  {
   "cell_type": "code",
   "execution_count": 1,
   "metadata": {},
   "outputs": [],
   "source": [
    "from categorize import read_csv_data\n",
    "df = read_csv_data(\"data/Mapping.csv\")"
   ]
  },
  {
   "cell_type": "code",
   "execution_count": 2,
   "metadata": {},
   "outputs": [],
   "source": [
    "from categorize import calcualate_unique_categories\n",
    "all_categories, report = calcualate_unique_categories(df)"
   ]
  },
  {
   "cell_type": "code",
   "execution_count": 3,
   "metadata": {},
   "outputs": [
    {
     "data": {
      "text/plain": [
       "{'宪法': 'Duplicate category found in column: 1 and column: 0',\n",
       " '民法': 'Duplicate category found in column: 1 and column: 0',\n",
       " '反不正当竞争': 'Duplicate category found in column: 1 and column: 0',\n",
       " '刑法': 'Duplicate category found in column: 1 and column: 0',\n",
       " '海事诉讼': 'Duplicate category found in column: 1 and column: 0',\n",
       " '金融综合': 'Duplicate category found in column: 1 and column: 0'}"
      ]
     },
     "execution_count": 3,
     "metadata": {},
     "output_type": "execute_result"
    }
   ],
   "source": [
    "report"
   ]
  },
  {
   "cell_type": "code",
   "execution_count": 6,
   "metadata": {},
   "outputs": [
    {
     "data": {
      "text/plain": [
       "('法律与司法', '律师', '律师业务', None)"
      ]
     },
     "execution_count": 6,
     "metadata": {},
     "output_type": "execute_result"
    }
   ],
   "source": [
    "from categorize import calulate_level_from_label\n",
    "calulate_level_from_label(df,\"律师业务\")"
   ]
  },
  {
   "cell_type": "code",
   "execution_count": 7,
   "metadata": {},
   "outputs": [
    {
     "data": {
      "text/plain": [
       "('法律与司法', '知识产权', '商标', '商标使用管理')"
      ]
     },
     "execution_count": 7,
     "metadata": {},
     "output_type": "execute_result"
    }
   ],
   "source": [
    "calulate_level_from_label(df,\"商标使用管理\")"
   ]
  },
  {
   "cell_type": "code",
   "execution_count": 8,
   "metadata": {},
   "outputs": [
    {
     "data": {
      "text/plain": [
       "('法律与司法', '宪法', '宪法', None)"
      ]
     },
     "execution_count": 8,
     "metadata": {},
     "output_type": "execute_result"
    }
   ],
   "source": [
    "calulate_level_from_label(df,\"宪法\")"
   ]
  }
 ],
 "metadata": {
  "kernelspec": {
   "display_name": "base",
   "language": "python",
   "name": "python3"
  },
  "language_info": {
   "codemirror_mode": {
    "name": "ipython",
    "version": 3
   },
   "file_extension": ".py",
   "mimetype": "text/x-python",
   "name": "python",
   "nbconvert_exporter": "python",
   "pygments_lexer": "ipython3",
   "version": "3.9.7"
  }
 },
 "nbformat": 4,
 "nbformat_minor": 2
}
