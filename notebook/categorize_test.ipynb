{
 "cells": [
  {
   "cell_type": "code",
   "execution_count": 1,
   "metadata": {},
   "outputs": [
    {
     "name": "stdout",
     "output_type": "stream",
     "text": [
      "/Users/ender_yang/Desktop/Spark/ds-ciss-policy-docs\n",
      "/Users/ender_yang/Desktop/Spark/ds-ciss-policy-docs/src\n"
     ]
    }
   ],
   "source": [
    "%cd ..\n",
    "%cd src"
   ]
  },
  {
   "cell_type": "code",
   "execution_count": 2,
   "metadata": {},
   "outputs": [],
   "source": [
    "from categorize import read_csv_data\n",
    "from categorize import calcualate_unique_categories\n",
    "from categorize import calulate_level_from_label"
   ]
  },
  {
   "cell_type": "code",
   "execution_count": 5,
   "metadata": {},
   "outputs": [],
   "source": [
    "df = read_csv_data(\"data/Mapping.csv\")\n",
    "all_categories, report = calcualate_unique_categories(df)"
   ]
  },
  {
   "cell_type": "code",
   "execution_count": 7,
   "metadata": {},
   "outputs": [
    {
     "data": {
      "text/plain": [
       "{'宪法': 'Duplicate category found in column: 1 and column: 0',\n",
       " '民法': 'Duplicate category found in column: 1 and column: 0',\n",
       " '反不正当竞争': 'Duplicate category found in column: 1 and column: 0',\n",
       " '刑法': 'Duplicate category found in column: 1 and column: 0',\n",
       " '海事诉讼': 'Duplicate category found in column: 1 and column: 0',\n",
       " '金融综合': 'Duplicate category found in column: 1 and column: 0'}"
      ]
     },
     "execution_count": 7,
     "metadata": {},
     "output_type": "execute_result"
    }
   ],
   "source": [
    "report"
   ]
  },
  {
   "cell_type": "code",
   "execution_count": 8,
   "metadata": {},
   "outputs": [
    {
     "data": {
      "text/plain": [
       "('法律与司法', '律师', '律师业务', None)"
      ]
     },
     "execution_count": 8,
     "metadata": {},
     "output_type": "execute_result"
    }
   ],
   "source": [
    "calulate_level_from_label(df,\"律师业务\")"
   ]
  },
  {
   "cell_type": "code",
   "execution_count": 9,
   "metadata": {},
   "outputs": [
    {
     "data": {
      "text/plain": [
       "('法律与司法', '知识产权', '商标', '商标使用管理')"
      ]
     },
     "execution_count": 9,
     "metadata": {},
     "output_type": "execute_result"
    }
   ],
   "source": [
    "calulate_level_from_label(df,\"商标使用管理\")"
   ]
  },
  {
   "cell_type": "code",
   "execution_count": 10,
   "metadata": {},
   "outputs": [
    {
     "data": {
      "text/plain": [
       "('法律与司法', '宪法', '宪法', None)"
      ]
     },
     "execution_count": 10,
     "metadata": {},
     "output_type": "execute_result"
    }
   ],
   "source": [
    "calulate_level_from_label(df,\"宪法\")"
   ]
  }
 ],
 "metadata": {
  "kernelspec": {
   "display_name": "base",
   "language": "python",
   "name": "python3"
  },
  "language_info": {
   "codemirror_mode": {
    "name": "ipython",
    "version": 3
   },
   "file_extension": ".py",
   "mimetype": "text/x-python",
   "name": "python",
   "nbconvert_exporter": "python",
   "pygments_lexer": "ipython3",
   "version": "3.9.7"
  }
 },
 "nbformat": 4,
 "nbformat_minor": 2
}
