{
 "cells": [
  {
   "cell_type": "code",
   "execution_count": 1,
   "metadata": {},
   "outputs": [
    {
     "name": "stdout",
     "output_type": "stream",
     "text": [
      "/Users/ender_yang/Desktop/Spark/ds-ciss-policy-docs\n"
     ]
    },
    {
     "data": {
      "text/plain": [
       "'/Users/ender_yang/Desktop/Spark/ds-ciss-policy-docs'"
      ]
     },
     "execution_count": 1,
     "metadata": {},
     "output_type": "execute_result"
    }
   ],
   "source": [
    "%cd ..\n",
    "%pwd"
   ]
  },
  {
   "cell_type": "code",
   "execution_count": 2,
   "metadata": {},
   "outputs": [],
   "source": [
    "from rank_bm25 import BM25Okapi\n",
    "import jieba\n",
    "import pandas as pd\n",
    "from src.categories import get_l2_map\n",
    "import numpy as np"
   ]
  },
  {
   "cell_type": "code",
   "execution_count": 3,
   "metadata": {},
   "outputs": [],
   "source": [
    "df = pd.read_parquet('src/data/text_data.parquet')\n",
    "df['decoded_column'] = df['content'].apply(lambda x: x.decode('utf-8') if isinstance(x, bytes) else x)"
   ]
  },
  {
   "cell_type": "code",
   "execution_count": 4,
   "metadata": {},
   "outputs": [
    {
     "data": {
      "text/html": [
       "<div>\n",
       "<style scoped>\n",
       "    .dataframe tbody tr th:only-of-type {\n",
       "        vertical-align: middle;\n",
       "    }\n",
       "\n",
       "    .dataframe tbody tr th {\n",
       "        vertical-align: top;\n",
       "    }\n",
       "\n",
       "    .dataframe thead th {\n",
       "        text-align: right;\n",
       "    }\n",
       "</style>\n",
       "<table border=\"1\" class=\"dataframe\">\n",
       "  <thead>\n",
       "    <tr style=\"text-align: right;\">\n",
       "      <th></th>\n",
       "      <th>file_name</th>\n",
       "      <th>content</th>\n",
       "      <th>decoded_column</th>\n",
       "    </tr>\n",
       "  </thead>\n",
       "  <tbody>\n",
       "    <tr>\n",
       "      <th>0</th>\n",
       "      <td>中共天津市委教育工作委员会、天津市教育委员</td>\n",
       "      <td>b'    \\xe3\\x80\\x90\\xe6\\xb3\\x95\\xe5\\xae\\x9d\\xe5...</td>\n",
       "      <td>【法宝引证码】 CLI.12.4720474\\n原文链接：https://www.p...</td>\n",
       "    </tr>\n",
       "    <tr>\n",
       "      <th>1</th>\n",
       "      <td>南昌市发展和改革委员会关于九龙湖变电站立项</td>\n",
       "      <td>b'    \\xe3\\x80\\x90\\xe6\\xb3\\x95\\xe5\\xae\\x9d\\xe5...</td>\n",
       "      <td>【法宝引证码】 CLI.12.2490990\\n原文链接：https://www.p...</td>\n",
       "    </tr>\n",
       "    <tr>\n",
       "      <th>2</th>\n",
       "      <td>邯郸市人民政府办公厅关于印发邯郸市高危险性</td>\n",
       "      <td>b'    \\xe3\\x80\\x90\\xe6\\xb3\\x95\\xe5\\xae\\x9d\\xe5...</td>\n",
       "      <td>【法宝引证码】 CLI.12.2662015\\n原文链接：https://www.p...</td>\n",
       "    </tr>\n",
       "    <tr>\n",
       "      <th>3</th>\n",
       "      <td>成都市发展和改革委员会关于解放北路道路综合</td>\n",
       "      <td>b'    \\xe3\\x80\\x90\\xe6\\xb3\\x95\\xe5\\xae\\x9d\\xe5...</td>\n",
       "      <td>【法宝引证码】 CLI.12.526157\\n原文链接：https://www.pk...</td>\n",
       "    </tr>\n",
       "    <tr>\n",
       "      <th>4</th>\n",
       "      <td>海南省交通运输厅关于行政规范性文件清理结果</td>\n",
       "      <td>b'    \\xe3\\x80\\x90\\xe6\\xb3\\x95\\xe5\\xae\\x9d\\xe5...</td>\n",
       "      <td>【法宝引证码】 CLI.12.5647676\\n原文链接：https://www.p...</td>\n",
       "    </tr>\n",
       "    <tr>\n",
       "      <th>5</th>\n",
       "      <td>河北省物价局关于制定晶纯盐和竹盐等系列品种</td>\n",
       "      <td>b'    \\xe3\\x80\\x90\\xe6\\xb3\\x95\\xe5\\xae\\x9d\\xe5...</td>\n",
       "      <td>【法宝引证码】 CLI.12.644477\\n原文链接：https://www.pk...</td>\n",
       "    </tr>\n",
       "    <tr>\n",
       "      <th>6</th>\n",
       "      <td>天津市市场监管委关于印发《天津市企业经营范</td>\n",
       "      <td>b'    \\xe3\\x80\\x90\\xe6\\xb3\\x95\\xe5\\xae\\x9d\\xe5...</td>\n",
       "      <td>【法宝引证码】 CLI.12.1592766\\n原文链接：https://www.p...</td>\n",
       "    </tr>\n",
       "    <tr>\n",
       "      <th>7</th>\n",
       "      <td>南京市政府办公厅关于进一步加强和完善全市部</td>\n",
       "      <td>b'    \\xe3\\x80\\x90\\xe6\\xb3\\x95\\xe5\\xae\\x9d\\xe5...</td>\n",
       "      <td>【法宝引证码】 CLI.12.1149805\\n原文链接：https://www.p...</td>\n",
       "    </tr>\n",
       "    <tr>\n",
       "      <th>8</th>\n",
       "      <td>上海市卫生局关于印发《关于邀请市政府、市卫</td>\n",
       "      <td>b'    \\xe3\\x80\\x90\\xe6\\xb3\\x95\\xe5\\xae\\x9d\\xe5...</td>\n",
       "      <td>【法宝引证码】 CLI.12.443753\\n原文链接：https://www.pk...</td>\n",
       "    </tr>\n",
       "    <tr>\n",
       "      <th>9</th>\n",
       "      <td>苏州市应急管理局关于印发《苏州市应急管理局</td>\n",
       "      <td>b'    \\xe3\\x80\\x90\\xe6\\xb3\\x95\\xe5\\xae\\x9d\\xe5...</td>\n",
       "      <td>【法宝引证码】 CLI.12.2817595\\n原文链接：https://www.p...</td>\n",
       "    </tr>\n",
       "  </tbody>\n",
       "</table>\n",
       "</div>"
      ],
      "text/plain": [
       "               file_name                                            content  \\\n",
       "0  中共天津市委教育工作委员会、天津市教育委员  b'    \\xe3\\x80\\x90\\xe6\\xb3\\x95\\xe5\\xae\\x9d\\xe5...   \n",
       "1  南昌市发展和改革委员会关于九龙湖变电站立项  b'    \\xe3\\x80\\x90\\xe6\\xb3\\x95\\xe5\\xae\\x9d\\xe5...   \n",
       "2  邯郸市人民政府办公厅关于印发邯郸市高危险性  b'    \\xe3\\x80\\x90\\xe6\\xb3\\x95\\xe5\\xae\\x9d\\xe5...   \n",
       "3  成都市发展和改革委员会关于解放北路道路综合  b'    \\xe3\\x80\\x90\\xe6\\xb3\\x95\\xe5\\xae\\x9d\\xe5...   \n",
       "4  海南省交通运输厅关于行政规范性文件清理结果  b'    \\xe3\\x80\\x90\\xe6\\xb3\\x95\\xe5\\xae\\x9d\\xe5...   \n",
       "5  河北省物价局关于制定晶纯盐和竹盐等系列品种  b'    \\xe3\\x80\\x90\\xe6\\xb3\\x95\\xe5\\xae\\x9d\\xe5...   \n",
       "6  天津市市场监管委关于印发《天津市企业经营范  b'    \\xe3\\x80\\x90\\xe6\\xb3\\x95\\xe5\\xae\\x9d\\xe5...   \n",
       "7  南京市政府办公厅关于进一步加强和完善全市部  b'    \\xe3\\x80\\x90\\xe6\\xb3\\x95\\xe5\\xae\\x9d\\xe5...   \n",
       "8  上海市卫生局关于印发《关于邀请市政府、市卫  b'    \\xe3\\x80\\x90\\xe6\\xb3\\x95\\xe5\\xae\\x9d\\xe5...   \n",
       "9  苏州市应急管理局关于印发《苏州市应急管理局  b'    \\xe3\\x80\\x90\\xe6\\xb3\\x95\\xe5\\xae\\x9d\\xe5...   \n",
       "\n",
       "                                      decoded_column  \n",
       "0      【法宝引证码】 CLI.12.4720474\\n原文链接：https://www.p...  \n",
       "1      【法宝引证码】 CLI.12.2490990\\n原文链接：https://www.p...  \n",
       "2      【法宝引证码】 CLI.12.2662015\\n原文链接：https://www.p...  \n",
       "3      【法宝引证码】 CLI.12.526157\\n原文链接：https://www.pk...  \n",
       "4      【法宝引证码】 CLI.12.5647676\\n原文链接：https://www.p...  \n",
       "5      【法宝引证码】 CLI.12.644477\\n原文链接：https://www.pk...  \n",
       "6      【法宝引证码】 CLI.12.1592766\\n原文链接：https://www.p...  \n",
       "7      【法宝引证码】 CLI.12.1149805\\n原文链接：https://www.p...  \n",
       "8      【法宝引证码】 CLI.12.443753\\n原文链接：https://www.pk...  \n",
       "9      【法宝引证码】 CLI.12.2817595\\n原文链接：https://www.p...  "
      ]
     },
     "execution_count": 4,
     "metadata": {},
     "output_type": "execute_result"
    }
   ],
   "source": [
    "df.head(10)"
   ]
  },
  {
   "cell_type": "code",
   "execution_count": 5,
   "metadata": {},
   "outputs": [
    {
     "name": "stderr",
     "output_type": "stream",
     "text": [
      "Building prefix dict from /Users/ender_yang/opt/anaconda3/lib/python3.9/site-packages/jieba/dict.txt ...\n",
      "Loading model from cache /var/folders/jj/4r8dblf53l9_ssdctfrstl480000gn/T/jieba.cache\n",
      "Loading model cost 0.4353830814361572 seconds.\n",
      "Prefix dict has been built succesfully.\n"
     ]
    }
   ],
   "source": [
    "topics = get_l2_map()\n",
    "documents = df['file_name'].iloc[:100].tolist()\n",
    "tokenized_docs = [list(jieba.cut(doc)) for doc in documents]\n",
    "topics_titles = [l1 for l1 in topics.keys()]"
   ]
  },
  {
   "cell_type": "code",
   "execution_count": 6,
   "metadata": {},
   "outputs": [],
   "source": [
    "topics_l2 = [l2 for l1 in topics.keys() for l2 in topics[l1]]"
   ]
  },
  {
   "cell_type": "code",
   "execution_count": 7,
   "metadata": {},
   "outputs": [],
   "source": [
    "bm25 = BM25Okapi(tokenized_docs)\n",
    "scores = np.ones((len(topics_l2), len(tokenized_docs)))\n",
    "for topic in topics_l2:\n",
    "    # Segment keywords\n",
    "    segmented_keywords = list(jieba.cut(topic))\n",
    "    # segmented_keywords = list(jieba.cut(' '.join(keywords)))\n",
    "\n",
    "    segmented_keywords = [x for x in segmented_keywords if x != ' ' and x != '与' and x != '和']\n",
    "    \n",
    "    # Get BM25 scores for the segmented keywords against all documents\n",
    "    score = bm25.get_scores(segmented_keywords)\n",
    "    \n",
    "    # aplly absolute value to the scores\n",
    "    score = np.abs(score)\n",
    "    topic_index = topics_l2.index(topic)\n",
    "    scores[topic_index] = score\n",
    "    "
   ]
  },
  {
   "cell_type": "code",
   "execution_count": 8,
   "metadata": {},
   "outputs": [
    {
     "data": {
      "text/plain": [
       "(92, 100)"
      ]
     },
     "execution_count": 8,
     "metadata": {},
     "output_type": "execute_result"
    }
   ],
   "source": [
    "scores.shape"
   ]
  },
  {
   "cell_type": "code",
   "execution_count": 13,
   "metadata": {},
   "outputs": [
    {
     "data": {
      "text/plain": [
       "array([0., 0., 0., 0., 0., 0., 0., 0., 0., 0., 0., 0., 0., 0., 0., 0., 0.,\n",
       "       0., 0., 0., 0., 0., 0., 0., 0., 0., 0., 0., 0., 0., 0., 0., 0., 0.,\n",
       "       0., 0., 0., 0., 0., 0., 0., 0., 0., 0., 0., 0., 0., 0., 0., 0., 0.,\n",
       "       0., 0., 0., 0., 0., 0., 0., 0., 0., 0., 0., 0., 0., 0., 0., 0., 0.,\n",
       "       0., 0., 0., 0., 0., 0., 0., 0., 0., 0., 0., 0., 0., 0., 0., 0., 0.,\n",
       "       0., 0., 0., 0., 0., 0., 0., 0., 0., 0., 0., 0., 0., 0., 0.])"
      ]
     },
     "execution_count": 13,
     "metadata": {},
     "output_type": "execute_result"
    }
   ],
   "source": [
    "scores[1]"
   ]
  },
  {
   "cell_type": "code",
   "execution_count": 9,
   "metadata": {},
   "outputs": [],
   "source": [
    "doc_category = np.argmax(scores, axis=0)"
   ]
  },
  {
   "cell_type": "code",
   "execution_count": 10,
   "metadata": {},
   "outputs": [
    {
     "data": {
      "text/plain": [
       "['教育',\n",
       " '农业',\n",
       " '农业',\n",
       " '金融综合',\n",
       " '交通运输',\n",
       " '农业',\n",
       " '企业',\n",
       " '农业',\n",
       " '农业',\n",
       " '农业',\n",
       " '农业',\n",
       " '农业',\n",
       " '农业',\n",
       " '农业',\n",
       " '农业',\n",
       " '农业',\n",
       " '经济审判',\n",
       " '农业',\n",
       " '农业',\n",
       " '卫生',\n",
       " '农业',\n",
       " '农业',\n",
       " '农业',\n",
       " '农业',\n",
       " '工业管理',\n",
       " '农业',\n",
       " '农业',\n",
       " '教育',\n",
       " '机关工作',\n",
       " '农业',\n",
       " '质量管理和监督',\n",
       " '农业',\n",
       " '农业',\n",
       " '经济审判',\n",
       " '人口与计划生育',\n",
       " '体育',\n",
       " '农业',\n",
       " '卫生',\n",
       " '质量管理和监督',\n",
       " '环境保护',\n",
       " '农业',\n",
       " '农业',\n",
       " '环境保护',\n",
       " '农业',\n",
       " '农业',\n",
       " '企业',\n",
       " '国有资产',\n",
       " '农业',\n",
       " '农业',\n",
       " '农业',\n",
       " '农业',\n",
       " '房地产',\n",
       " '人口与计划生育',\n",
       " '企业',\n",
       " '农业',\n",
       " '农业',\n",
       " '企业',\n",
       " '质量管理和监督',\n",
       " '农业',\n",
       " '社会监控',\n",
       " '农业',\n",
       " '农业',\n",
       " '经济审判',\n",
       " '农业',\n",
       " '农业',\n",
       " '文化',\n",
       " '农业',\n",
       " '农业',\n",
       " '交通运输',\n",
       " '农业',\n",
       " '农业',\n",
       " '农业',\n",
       " '农业',\n",
       " '农业',\n",
       " '农业',\n",
       " '体育',\n",
       " '金融综合',\n",
       " '农业',\n",
       " '农业',\n",
       " '质量管理和监督',\n",
       " '农业',\n",
       " '农业',\n",
       " '国家安全',\n",
       " '建设业',\n",
       " '农业',\n",
       " '农业',\n",
       " '农业',\n",
       " '农业',\n",
       " '农业',\n",
       " '质量管理和监督',\n",
       " '农业',\n",
       " '农业',\n",
       " '旅游',\n",
       " '工业管理',\n",
       " '农业',\n",
       " '卫生',\n",
       " '农业',\n",
       " '交通运输',\n",
       " '农业',\n",
       " '农业']"
      ]
     },
     "execution_count": 10,
     "metadata": {},
     "output_type": "execute_result"
    }
   ],
   "source": [
    "doc_category = [topics_l2[x] for x in doc_category]\n",
    "doc_category"
   ]
  }
 ],
 "metadata": {
  "kernelspec": {
   "display_name": "base",
   "language": "python",
   "name": "python3"
  },
  "language_info": {
   "codemirror_mode": {
    "name": "ipython",
    "version": 3
   },
   "file_extension": ".py",
   "mimetype": "text/x-python",
   "name": "python",
   "nbconvert_exporter": "python",
   "pygments_lexer": "ipython3",
   "version": "3.9.7"
  }
 },
 "nbformat": 4,
 "nbformat_minor": 2
}
